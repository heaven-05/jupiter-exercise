{
 "cells": [
  {
   "cell_type": "code",
   "execution_count": 3,
   "metadata": {},
   "outputs": [],
   "source": [
    "#import necessary libraries\n",
    "\n",
    "from IPython.display import display, Image, Audio\n",
    "import cv2  # We're using OpenCV to read video, to install !pip install opencv-python\n",
    "import base64\n",
    "import time\n",
    "from openai import OpenAI\n",
    "import os\n",
    "from dotenv import load_dotenv  # Import dotenv to load environment variables\n",
    "import requests\n",
    "\n",
    "# Load environment variables from .env file\n",
    "load_dotenv()\n",
    "\n",
    "# Use environment variable for API key\n",
    "client = OpenAI(api_key=os.environ.get(\"OPENAI_API_KEY\"))"
   ]
  },
  {
   "cell_type": "code",
   "execution_count": 10,
   "metadata": {},
   "outputs": [
    {
     "name": "stdout",
     "output_type": "stream",
     "text": [
      "414 frames read.\n"
     ]
    }
   ],
   "source": [
    "#capture vid frames\n",
    "video = cv2.VideoCapture(\"data/bike_vid.mp4\")\n",
    "\n",
    "base64Frames = []\n",
    "while video.isOpened():\n",
    "    success, frame = video.read()\n",
    "    if not success:\n",
    "        break\n",
    "    _, buffer = cv2.imencode(\".jpg\", frame)\n",
    "    base64Frames.append(base64.b64encode(buffer).decode(\"utf-8\"))\n",
    "\n",
    "video.release()\n",
    "print(len(base64Frames), \"frames read.\")"
   ]
  },
  {
   "cell_type": "code",
   "execution_count": 13,
   "metadata": {},
   "outputs": [
    {
     "name": "stdout",
     "output_type": "stream",
     "text": [
      "\"Enjoy a serene stroll along a picturesque urban riverside. Watch as people bike, jog, and relax against a backdrop of beautiful historic architecture and lush greenery. A peaceful escape in the heart of the city!\"\n"
     ]
    }
   ],
   "source": [
    "#prompt GPT to summarize the video\n",
    "PROMPT_MESSAGES = [\n",
    "    {\n",
    "        \"role\": \"user\",\n",
    "        \"content\": [\n",
    "            \"These are frames from a video that I want to upload. Generate a concise summary that I can upload along with the video.\",\n",
    "            *map(lambda x: {\"image\": x, \"resize\": 768}, base64Frames[0::50]),\n",
    "        ],\n",
    "    },\n",
    "]\n",
    "params = {\n",
    "    \"model\": \"gpt-4o\",\n",
    "    \"messages\": PROMPT_MESSAGES,\n",
    "    \"max_tokens\": 200,\n",
    "}\n",
    "\n",
    "result = client.chat.completions.create(**params)\n",
    "print(result.choices[0].message.content)"
   ]
  },
  {
   "cell_type": "code",
   "execution_count": 33,
   "metadata": {},
   "outputs": [
    {
     "name": "stdout",
     "output_type": "stream",
     "text": [
      "Certainly! Here are quiz questions based on a summary of your video using the provided frames:\n",
      "\n",
      "**Multiple Choice Questions:**\n",
      "\n",
      "1. What mode of transportation is featured most prominently in the video frames?\n",
      "   - A) Walking\n",
      "   - B) Running\n",
      "   - C) Cycling\n",
      "   - D) Driving\n",
      "\n",
      "2. What type of building can be seen in the background of the frames?\n",
      "   - A) A modern glass office building\n",
      "   - B) A historical stone building\n",
      "   - C) A wooden house\n",
      "   - D) A factory\n",
      "\n",
      "3. What sport, besides cycling, is shown being performed in the video?\n",
      "   - A) Swimming\n",
      "   - B) Football\n",
      "   - C) Running\n",
      "   - D) Basketball\n",
      "\n",
      "4. What is the cyclist wearing on their head?\n",
      "   - A) A cap\n",
      "   - B) A helmet\n",
      "   - C) A hat\n",
      "   - D) Goggles\n",
      "\n",
      "**True/False Questions:**\n",
      "\n",
      "1\n"
     ]
    }
   ],
   "source": [
    "#prompt GPT to create quiz questions for the video\n",
    "PROMPT_MESSAGES = [\n",
    "    {\n",
    "        \"role\": \"user\",\n",
    "        \"content\": [\n",
    "            \"These are frames from a video that I want to upload. Generate several quiz questions (multiple choice, true/false, and short answer) based on a summary of the video.\",\n",
    "            *map(lambda x: {\"image\": x, \"resize\": 768}, base64Frames[0::50]),\n",
    "        ],\n",
    "    },\n",
    "]\n",
    "params = {\n",
    "    \"model\": \"gpt-4o\",\n",
    "    \"messages\": PROMPT_MESSAGES,\n",
    "    \"max_tokens\": 200,\n",
    "}\n",
    "\n",
    "result = client.chat.completions.create(**params)\n",
    "print(result.choices[0].message.content)"
   ]
  },
  {
   "cell_type": "code",
   "execution_count": 34,
   "metadata": {},
   "outputs": [
    {
     "data": {
      "text/html": [
       "\n",
       "                <audio  controls=\"controls\" >\n",
       "                    <source src=\"data:audio/wav;base64,ewogICAgImVycm9yIjogewogICAgICAgICJtZXNzYWdlIjogIllvdSBleGNlZWRlZCB5b3VyIGN1cnJlbnQgcXVvdGEsIHBsZWFzZSBjaGVjayB5b3VyIHBsYW4gYW5kIGJpbGxpbmcgZGV0YWlscy4gRm9yIG1vcmUgaW5mb3JtYXRpb24gb24gdGhpcyBlcnJvciwgcmVhZCB0aGUgZG9jczogaHR0cHM6Ly9wbGF0Zm9ybS5vcGVuYWkuY29tL2RvY3MvZ3VpZGVzL2Vycm9yLWNvZGVzL2FwaS1lcnJvcnMuIiwKICAgICAgICAidHlwZSI6ICJpbnN1ZmZpY2llbnRfcXVvdGEiLAogICAgICAgICJwYXJhbSI6IG51bGwsCiAgICAgICAgImNvZGUiOiAiaW5zdWZmaWNpZW50X3F1b3RhIgogICAgfQp9Cg==\" type=\"audio/wav\" />\n",
       "                    Your browser does not support the audio element.\n",
       "                </audio>\n",
       "              "
      ],
      "text/plain": [
       "<IPython.lib.display.Audio object>"
      ]
     },
     "execution_count": 34,
     "metadata": {},
     "output_type": "execute_result"
    }
   ],
   "source": [
    "#convert quiz questions to TTS \n",
    "\n",
    "response = requests.post(\n",
    "    \"https://api.openai.com/v1/audio/speech\",\n",
    "    headers={\n",
    "        \"Authorization\": f\"Bearer {os.environ['OPENAI_API_KEY']}\",\n",
    "    },\n",
    "    json={\n",
    "        \"model\": \"tts-1-1106\",\n",
    "        \"input\": result.choices[0].message.content,\n",
    "        \"voice\": \"onyx\",\n",
    "    },\n",
    ")\n",
    "\n",
    "audio = b\"\"\n",
    "for chunk in response.iter_content(chunk_size=1024 * 1024):\n",
    "    audio += chunk\n",
    "Audio(audio)"
   ]
  }
 ],
 "metadata": {
  "kernelspec": {
   "display_name": "howard3",
   "language": "python",
   "name": "python3"
  },
  "language_info": {
   "codemirror_mode": {
    "name": "ipython",
    "version": 3
   },
   "file_extension": ".py",
   "mimetype": "text/x-python",
   "name": "python",
   "nbconvert_exporter": "python",
   "pygments_lexer": "ipython3",
   "version": "3.10.12"
  }
 },
 "nbformat": 4,
 "nbformat_minor": 2
}
